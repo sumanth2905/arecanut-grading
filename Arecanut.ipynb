{
  "nbformat": 4,
  "nbformat_minor": 0,
  "metadata": {
    "colab": {
      "provenance": [],
      "collapsed_sections": []
    },
    "kernelspec": {
      "name": "python3",
      "display_name": "Python 3"
    },
    "language_info": {
      "name": "python"
    }
  },
  "cells": [
    {
      "cell_type": "code",
      "source": [
        "!tensorflow --version"
      ],
      "metadata": {
        "id": "LpqCJqxaEFWv"
      },
      "execution_count": null,
      "outputs": []
    },
    {
      "cell_type": "code",
      "source": [
        "import tensorflow as tf\n",
        "import os\n",
        "from tensorflow.keras.preprocessing.image import ImageDataGenerator\n",
        "from tensorflow.keras import layers, models\n",
        "import matplotlib.pyplot as plt\n",
        "import numpy as np\n",
        "from tensorflow import keras"
      ],
      "metadata": {
        "id": "zfkZktwqIEJ4"
      },
      "execution_count": null,
      "outputs": []
    },
    {
      "cell_type": "code",
      "source": [
        "from google.colab import drive\n",
        "drive.mount('/content/drive')"
      ],
      "metadata": {
        "colab": {
          "base_uri": "https://localhost:8080/"
        },
        "id": "vE7M0EGr1pAz",
        "outputId": "cc835c28-dc1c-4e3a-e077-e4c9a08646ac"
      },
      "execution_count": null,
      "outputs": [
        {
          "output_type": "stream",
          "name": "stdout",
          "text": [
            "Mounted at /content/drive\n"
          ]
        }
      ]
    },
    {
      "cell_type": "code",
      "source": [
        "import pathlib\n",
        "train_dir=pathlib.Path('/content/drive/MyDrive/Major Project/data')\n",
        "test_dir=pathlib.Path('/content/drive/MyDrive/Major Project/Sample/data/areca-data/Test')"
      ],
      "metadata": {
        "id": "IGGNAEy9EItN"
      },
      "execution_count": null,
      "outputs": []
    },
    {
      "cell_type": "code",
      "source": [
        "batch_size = 10\n",
        "img_height = 224\n",
        "img_width = 224"
      ],
      "metadata": {
        "id": "FpMgej3XEZZN"
      },
      "execution_count": null,
      "outputs": []
    },
    {
      "cell_type": "code",
      "source": [
        "train_image_generator = ImageDataGenerator(rescale=1./255)  \n",
        "train_data_gen = train_image_generator.flow_from_directory(batch_size=batch_size,\n",
        "                                                           directory=train_dir,\n",
        "                                                           shuffle=True,\n",
        "                                                           target_size=(img_height, img_width),\n",
        "                                                           class_mode='categorical')"
      ],
      "metadata": {
        "colab": {
          "base_uri": "https://localhost:8080/"
        },
        "id": "Y9h93-Y7EcMK",
        "outputId": "0dc6f369-9cc9-418e-edb4-91632730beaf"
      },
      "execution_count": null,
      "outputs": [
        {
          "output_type": "stream",
          "name": "stdout",
          "text": [
            "Found 436 images belonging to 4 classes.\n"
          ]
        }
      ]
    },
    {
      "cell_type": "code",
      "source": [
        "val_image_generator = ImageDataGenerator(rescale=1./255)  \n",
        "val_data_gen = val_image_generator .flow_from_directory(batch_size=batch_size,\n",
        "                                                        directory=test_dir,\n",
        "                                                        shuffle=True,\n",
        "                                                        target_size=(img_height, img_width),\n",
        "                                                        class_mode='categorical')"
      ],
      "metadata": {
        "id": "8697cgWXElV_",
        "colab": {
          "base_uri": "https://localhost:8080/"
        },
        "outputId": "4a409a02-2c87-4470-a541-aed8121bcdb5"
      },
      "execution_count": null,
      "outputs": [
        {
          "output_type": "stream",
          "name": "stdout",
          "text": [
            "Found 40 images belonging to 4 classes.\n"
          ]
        }
      ]
    },
    {
      "cell_type": "code",
      "source": [
        "from tensorflow.keras.applications.inception_v3 import InceptionV3"
      ],
      "metadata": {
        "id": "27JwyTc4EvWk"
      },
      "execution_count": null,
      "outputs": []
    },
    {
      "cell_type": "code",
      "source": [
        "IMAGE_SIZE = [224, 224]\n",
        "base_model = InceptionV3(input_shape=IMAGE_SIZE + [3], weights='imagenet', include_top=False)\n",
        "base_model.trainable = False"
      ],
      "metadata": {
        "id": "SJeiX4YWEyu_",
        "colab": {
          "base_uri": "https://localhost:8080/"
        },
        "outputId": "8e5779cf-05da-481c-b566-a32ca6332e54"
      },
      "execution_count": null,
      "outputs": [
        {
          "output_type": "stream",
          "name": "stdout",
          "text": [
            "Downloading data from https://storage.googleapis.com/tensorflow/keras-applications/inception_v3/inception_v3_weights_tf_dim_ordering_tf_kernels_notop.h5\n",
            "87916544/87910968 [==============================] - 0s 0us/step\n",
            "87924736/87910968 [==============================] - 0s 0us/step\n"
          ]
        }
      ]
    },
    {
      "cell_type": "code",
      "source": [
        "#  base_model.summary()"
      ],
      "metadata": {
        "id": "9nPKpdIeE9j8"
      },
      "execution_count": null,
      "outputs": []
    },
    {
      "cell_type": "code",
      "source": [
        "cnn_model = keras.models.Sequential([\n",
        "    base_model,\n",
        "    keras.layers.GlobalAveragePooling2D(),\n",
        "    keras.layers.Flatten(),\n",
        "    keras.layers.Dense(100, activation=\"relu\"),\n",
        "    keras.layers.Dense(4, activation=\"softmax\")\n",
        "])"
      ],
      "metadata": {
        "id": "t0Vws7CTFCyK"
      },
      "execution_count": null,
      "outputs": []
    },
    {
      "cell_type": "code",
      "source": [
        "cnn_model.compile(optimizer='adam',\n",
        "loss='categorical_crossentropy',\n",
        "metrics=['accuracy'])"
      ],
      "metadata": {
        "id": "jVD8BPlDFIzP"
      },
      "execution_count": null,
      "outputs": []
    },
    {
      "cell_type": "code",
      "source": [
        "#history = cnn_model.fit(train_data_gen, epochs=1,\n",
        "#validation_data= val_data_gen,)\n",
        "\n",
        "save_path = './keras-saves/_latest.ckpt'\n",
        "try:\n",
        "    cnn_model.fit(train_data_gen,validation_data= val_data_gen,\n",
        "              epochs=1)\n",
        "except KeyboardInterrupt:\n",
        "    cnn_model.save(save_path)\n",
        "    print('Output saved to: \"{}./*\"'.format(save_path))\n"
      ],
      "metadata": {
        "colab": {
          "base_uri": "https://localhost:8080/"
        },
        "id": "KhNcAZqkFLlb",
        "outputId": "d4480bd8-58b5-4dec-deb1-27992a1f0fd4"
      },
      "execution_count": null,
      "outputs": [
        {
          "output_type": "stream",
          "name": "stdout",
          "text": [
            "44/44 [==============================] - 157s 4s/step - loss: 0.2196 - accuracy: 0.9266 - val_loss: 0.2882 - val_accuracy: 0.8750\n"
          ]
        }
      ]
    },
    {
      "cell_type": "code",
      "source": [
        "class_names = ['GradeA', 'GradeB', 'GradeC', 'GradeD']"
      ],
      "metadata": {
        "id": "u3X0FOyYp15m"
      },
      "execution_count": null,
      "outputs": []
    },
    {
      "cell_type": "code",
      "source": [],
      "metadata": {
        "id": "UjhO-2k-pAwd"
      },
      "execution_count": null,
      "outputs": []
    },
    {
      "cell_type": "code",
      "source": [
        "import tensorflow as tf\n",
        "import os\n",
        "from tensorflow.keras.preprocessing.image import ImageDataGenerator\n",
        "from tensorflow.keras import layers, models\n",
        "import matplotlib.pyplot as plt\n",
        "import numpy as np\n",
        "from tensorflow import keras\n",
        "import pathlib\n",
        "train_dir=pathlib.Path('/content/drive/MyDrive/Major Project/train-data')\n",
        "test_dir=pathlib.Path('/content/drive/MyDrive/Major Project/test-data')\n",
        "batch_size = 10\n",
        "train_image_generator = ImageDataGenerator(rescale=1./255)  \n",
        "train_data_gen = train_image_generator.flow_from_directory(batch_size=batch_size,\n",
        "                                                           directory=train_dir,\n",
        "                                                           shuffle=True,\n",
        "                                                           target_size=(img_height, img_width),\n",
        "                                                           class_mode='categorical')\n",
        "val_image_generator = ImageDataGenerator(rescale=1./255)  \n",
        "val_data_gen = val_image_generator .flow_from_directory(batch_size=batch_size,\n",
        "                                                        directory=test_dir,\n",
        "                                                        shuffle=True,\n",
        "                                                        target_size=(img_height, img_width),\n",
        "                                                        class_mode='categorical')\n",
        "from tensorflow.keras.applications.inception_v3 import InceptionV3\n",
        "IMAGE_SIZE = [224, 224]\n",
        "base_model = InceptionV3(input_shape=IMAGE_SIZE + [3], weights='imagenet', include_top=False)\n",
        "base_model.trainable = False\n",
        "cnn_model = keras.models.Sequential([ base_model,\n",
        "    keras.layers.GlobalAveragePooling2D(),\n",
        "    keras.layers.Flatten(),\n",
        "    keras.layers.Dense(100, activation=\"relu\"),\n",
        "    keras.layers.Dense(4, activation=\"softmax\")])\n",
        "cnn_model.compile(optimizer='adam',\n",
        "loss='categorical_crossentropy',\n",
        "metrics=['accuracy'])\n",
        "\n",
        "\n",
        "save_path = './keras-saves/_latest.ckpt'\n",
        "try:\n",
        "    cnn_model.fit(train_data_gen,validation_data= val_data_gen,\n",
        "              epochs=1)\n",
        "except KeyboardInterrupt:\n",
        "    cnn_model.save(save_path)\n",
        "    print('Output saved to: \"{}./*\"'.format(save_path))\n",
        "\n"
      ],
      "metadata": {
        "id": "yDdPxm-spAsY"
      },
      "execution_count": null,
      "outputs": []
    },
    {
      "cell_type": "code",
      "source": [
        "model.save('/content/drive/MyDrive/Major Project/Data Samples/CNN-model.hdfi')"
      ],
      "metadata": {
        "id": "GCUDGgtZxlWb"
      },
      "execution_count": null,
      "outputs": []
    }
  ]
}